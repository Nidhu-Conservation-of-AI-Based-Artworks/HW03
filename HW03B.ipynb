{
 "cells": [
  {
   "cell_type": "markdown",
   "metadata": {
    "id": "QshK8s21WBrf"
   },
   "source": [
    "# HW03B\n",
    "\n",
    "Some exercises to get started with lists, dicts and data in Python\n",
    "\n",
    "## Goals\n",
    "\n",
    "- Gain experience with a popular scripting language used for ML/AI projects and research\n",
    "- Get familiar with Python's notation for lists and objects\n",
    "- Experiment with Python's unique functionalities for processing lists and objects\n",
    "- Process a dataset using Python\n",
    "\n",
    "All of these skills are invaluable when working in any data-driven project, or any project that requires any kind of data processing or the use of ML models."
   ]
  },
  {
   "cell_type": "markdown",
   "metadata": {
    "id": "7Hf8SXUwWOho"
   },
   "source": [
    "### Setup\n",
    "\n",
    "Run the following 2 cells to import all necessary libraries and helpers for this homework"
   ]
  },
  {
   "cell_type": "code",
   "execution_count": 2,
   "metadata": {},
   "outputs": [],
   "source": [
    "from HW03_utils import object_from_json_path, Tests"
   ]
  },
  {
   "cell_type": "markdown",
   "metadata": {
    "id": "prKGt8bzScNA"
   },
   "source": [
    "### Working with data files\n",
    "\n",
    "Find the name of the 3 cities that are geographically closest to the world's most populous city.\n",
    "\n",
    "# 🤔😱\n"
   ]
  },
  {
   "cell_type": "markdown",
   "metadata": {
    "id": "FKsnl_NYTSk0"
   },
   "source": [
    "#### Load Data:\n",
    "\n",
    "Let's break this down into a few sub-problems.\n",
    "\n",
    "First, let's load a JSON file that has information about large cities in the world.\n",
    "\n",
    "The file at this [URL](https://raw.githubusercontent.com/DM-GY-9103-2024F-H/9103-utils/main/datasets/json/cities50k.json) has a list of cities formatted like this:\n",
    "\n",
    "```py\n",
    "{\n",
    "  \"name\": \"Pittsburgh\",\n",
    "  \"country\": \"US\",\n",
    "  \"admin1\": \"Pennsylvania\",\n",
    "  \"lat\": 40.4406200,\n",
    "  \"lon\": -79.9958900,\n",
    "  \"pop\": 304391\n",
    "}\n",
    "```\n",
    "\n",
    "This is just like how we loaded ANSUR data files in class:"
   ]
  },
  {
   "cell_type": "code",
   "execution_count": 3,
   "metadata": {},
   "outputs": [],
   "source": [
    "# Define the location of the json file here\n",
    "CITIES_FILE = \"./data/cities50k.json\"\n",
    "\n",
    "# Use the object_from_json_url() function to load contents from \n",
    "# the json file into a Python object called \"info_cities\"\n",
    "\n",
    "info_cities = object_from_json_path(CITIES_FILE)"
   ]
  },
  {
   "cell_type": "markdown",
   "metadata": {
    "id": "KeWkaI_lYzIE"
   },
   "source": [
    "#### Exercise A:\n",
    "\n",
    "Ok. We should now have a list of objects with information about cities.\n",
    "\n",
    "Explore the data and answer the following questions:\n",
    "- How many cities are in this list?\n",
    "- What's the name of the first city on the list?\n",
    "- What are the latitude and longitude of the last city on the list?\n",
    "- What are the populations for the largest and smallest cities?\n",
    "- What's the name of the city with the largest population?\n"
   ]
  },
  {
   "cell_type": "code",
   "execution_count": 18,
   "metadata": {
    "tags": [
     "work_cell"
    ]
   },
   "outputs": [
    {
     "name": "stdout",
     "output_type": "stream",
     "text": [
      "The number of cities in the list are: 8670 \n",
      "\n",
      "The name of the first city in the list is Abu Dhabi \n",
      "\n",
      "The latitude of the last city is: -17.88333\n",
      "The longitude of the last city is: 30.7 \n",
      "\n",
      "The smallest population available: 50011\n",
      "The largest population available: 22315474 \n",
      "\n",
      "The name of the city with the largest population is: Shanghai \n",
      "\n"
     ]
    }
   ],
   "source": [
    "# Work on A here\n",
    "\n",
    "# print(info_cities, \"\\n\")\n",
    "\n",
    "# How many cities are in the list?\n",
    "\n",
    "num_cities = len(info_cities)\n",
    "print(\"The number of cities in the list are:\", num_cities, \"\\n\")\n",
    "\n",
    "# What's the name of the first city on the list?\n",
    "\n",
    "first_city = info_cities[0][\"name\"]\n",
    "print(\"The name of the first city in the list is\", first_city, \"\\n\")\n",
    "\n",
    "# What are the latitude and longitude of the last city on the list?\n",
    "\n",
    "last_latitude = info_cities[-1][\"lat\"]\n",
    "last_longitude = info_cities[-1][\"lon\"]\n",
    "print(\"The latitude of the last city is:\", last_latitude)\n",
    "print(\"The longitude of the last city is:\", last_longitude, \"\\n\")\n",
    "\n",
    "# What are the populations for the largest and smallest cities?\n",
    "\n",
    "def sortPopulation(info_cities):\n",
    "    return info_cities[\"pop\"]\n",
    "\n",
    "populations = sorted(info_cities, key=sortPopulation)\n",
    "\n",
    "smallest_population = populations[0][\"pop\"]\n",
    "largest_population = populations[-1][\"pop\"]\n",
    "\n",
    "print(\"The smallest population available:\", smallest_population)\n",
    "print(\"The largest population available:\", largest_population, \"\\n\")\n",
    "\n",
    "# What's the name of the city with the largest population?\n",
    "\n",
    "largest_city_name = populations[-1][\"name\"]\n",
    "print(\"The name of the city with the largest population is:\", largest_city_name, \"\\n\")"
   ]
  },
  {
   "cell_type": "markdown",
   "metadata": {},
   "source": [
    "#### Test A"
   ]
  },
  {
   "cell_type": "code",
   "execution_count": 5,
   "metadata": {},
   "outputs": [
    {
     "name": "stdout",
     "output_type": "stream",
     "text": [
      "A: All tests passed 🎉🎉🎉\n"
     ]
    }
   ],
   "source": [
    "# Test A\n",
    "answers = [num_cities, first_city, last_latitude, last_longitude, largest_population, smallest_population, largest_city_name]\n",
    "\n",
    "Tests.test(\"A\", answers)"
   ]
  },
  {
   "cell_type": "markdown",
   "metadata": {
    "id": "nJylXsSrZ7DH"
   },
   "source": [
    "#### Exercise B:\n",
    "\n",
    "We have the largest city's name and population, but we need its location.\n",
    "\n",
    "We can recycle some of the logic from above to get the whole object that contains information for the largest city."
   ]
  },
  {
   "cell_type": "code",
   "execution_count": 6,
   "metadata": {
    "tags": [
     "work_cell"
    ]
   },
   "outputs": [],
   "source": [
    "# Work on B here\n",
    "\n",
    "largest_city = populations[-1]\n"
   ]
  },
  {
   "cell_type": "code",
   "execution_count": 7,
   "metadata": {},
   "outputs": [
    {
     "name": "stdout",
     "output_type": "stream",
     "text": [
      "B: All tests passed 🎉🎉🎉\n"
     ]
    }
   ],
   "source": [
    "# Test B\n",
    "Tests.test(\"B\", largest_city)"
   ]
  },
  {
   "cell_type": "markdown",
   "metadata": {
    "id": "nJylXsSrZ7DH"
   },
   "source": [
    "#### Exercise C:\n",
    "\n",
    "We should have all info about the largest city here.\n",
    "\n",
    "Now, we'll iterate through the list and use each city's latitude and longitude to calculate its distance from the largest city.\n",
    "\n",
    "Althought not $100\\%$ correct, it's ok to use the [2D Euclidean distances](https://en.wikipedia.org/wiki/Euclidean_distance#Two_dimensions) for this.\n",
    "\n",
    "Could be useful to define a function `distance(cityA, cityB)` that returns the distance between two cities."
   ]
  },
  {
   "cell_type": "code",
   "execution_count": 8,
   "metadata": {
    "tags": [
     "work_cell"
    ]
   },
   "outputs": [],
   "source": [
    "# Work on C here\n",
    "\n",
    "# Implement the helper function for calculating distances between 2 cities\n",
    "\n",
    "import math\n",
    "\n",
    "def distance(cityA, cityB):\n",
    "  latA = cityA[\"lat\"]\n",
    "  lonA = cityA[\"lon\"]\n",
    "  latB = cityB[\"lat\"]\n",
    "  lonB = cityB[\"lon\"]\n",
    "\n",
    "  # dist = math.sqrt(((latA-latB)**2) + ((lonA-lonB)**2))\n",
    "  # Easier implementation that I found which returns the root of the sum of squares of the two parameters it takes.\n",
    "  dist = math.hypot(latA - latB, lonA - lonB)\n",
    "  return dist\n"
   ]
  },
  {
   "cell_type": "code",
   "execution_count": 9,
   "metadata": {},
   "outputs": [
    {
     "name": "stdout",
     "output_type": "stream",
     "text": [
      "C: All tests passed 🎉🎉🎉\n"
     ]
    }
   ],
   "source": [
    "# Test C\n",
    "Tests.test(\"C\", distance)"
   ]
  },
  {
   "cell_type": "markdown",
   "metadata": {
    "id": "27RWtZVJeRp4"
   },
   "source": [
    "#### Exercise D:\n",
    "\n",
    "Ok. We implemented a function to calculate the distance between 2 cities, let's use it now.\n",
    "\n",
    "Iterate through the list of cities again, calculate the distance from each city to the largest city, and add that as a new feature/key to each city's entry:\n",
    "\n",
    "```py\n",
    "{\n",
    "  \"name\": \"Pittsburgh\",\n",
    "  \"country\": \"US\",\n",
    "  \"admin1\": \"Pennsylvania\",\n",
    "  \"lat\": 40.4406200,\n",
    "  \"lon\": -79.9958900,\n",
    "  \"pop\": 304391,\n",
    "  \"distance_to_largest\": 1222.32\n",
    "}\n",
    "```\n",
    "\n",
    "Just make sure the `key` that holds the distance value is called `distance_to_largest`."
   ]
  },
  {
   "cell_type": "code",
   "execution_count": 10,
   "metadata": {
    "tags": [
     "work_cell"
    ]
   },
   "outputs": [
    {
     "data": {
      "text/plain": [
       "[{'name': 'Abu Dhabi',\n",
       "  'country': 'AE',\n",
       "  'admin1': 'Abū Z̧aby',\n",
       "  'lat': 24.45118,\n",
       "  'lon': 54.39696,\n",
       "  'pop': 603492,\n",
       "  'distance_to_largest': 67.40206314269321},\n",
       " {'name': 'Ajman City',\n",
       "  'country': 'AE',\n",
       "  'admin1': '‘Ajmān',\n",
       "  'lat': 25.40177,\n",
       "  'lon': 55.47878,\n",
       "  'pop': 490035,\n",
       "  'distance_to_largest': 66.235511831048}]"
      ]
     },
     "execution_count": 10,
     "metadata": {},
     "output_type": "execute_result"
    }
   ],
   "source": [
    "# Work on D here\n",
    "\n",
    "# TODO: calculate every city's distance from the largest city \n",
    "# and add that info to each city's entry in info_cities\n",
    "for item in info_cities:\n",
    "    dist = distance(item, largest_city)\n",
    "    item[\"distance_to_largest\"] = dist\n",
    "\n",
    "info_cities[0:2]\n",
    "         \n"
   ]
  },
  {
   "cell_type": "code",
   "execution_count": 11,
   "metadata": {},
   "outputs": [
    {
     "name": "stdout",
     "output_type": "stream",
     "text": [
      "D: All tests passed 🎉🎉🎉\n"
     ]
    }
   ],
   "source": [
    "# Test D\n",
    "Tests.test(\"D\", info_cities)"
   ]
  },
  {
   "cell_type": "markdown",
   "metadata": {
    "id": "xJG6V-DufauE"
   },
   "source": [
    "#### Exercise E:\n",
    "\n",
    "Now, sort the array from the previous step by distance and get the name of the $3$ cities closest to the largest city, but not including the largest city. In other words, if you sort the list from the exercise above by ascending `distance_to_largest`, the $3$ cities closest to the largest city will be in the slice `[1:4]`. The city at index $0$ is the city with the largest population, and should have a distance of $0$ from itself.\n",
    "\n",
    "The answer should be a list with city names.\n",
    "\n",
    "Something like:\n",
    "\n",
    "```python\n",
    "closest_3 = [ \"pittsburgh\", \"liverpool\", \"oakland\" ]\n",
    "```\n",
    "\n",
    "We saw how to sort lists of objects in lecture."
   ]
  },
  {
   "cell_type": "code",
   "execution_count": 19,
   "metadata": {
    "tags": [
     "work_cell"
    ]
   },
   "outputs": [
    {
     "name": "stdout",
     "output_type": "stream",
     "text": [
      "['Songjiang', 'Zhujiajiao', 'Kunshan']\n"
     ]
    }
   ],
   "source": [
    "# Work on E here\n",
    "\n",
    "# Sort the array and get the name and population of the 3 cities closest to the largest city\n",
    "\n",
    "def sortLargestDistance(info_cities):\n",
    "    return info_cities[\"distance_to_largest\"]\n",
    "\n",
    "cities_by_distance = sorted(info_cities, key=sortLargestDistance)\n",
    "\n",
    "# print(\"cities by distance\", cities_by_distance)\n",
    "\n",
    "\n",
    "\n",
    "closest_3 = [ item[\"name\"] for item in cities_by_distance[1:4] ]\n",
    "\n",
    "print(closest_3)\n"
   ]
  },
  {
   "cell_type": "code",
   "execution_count": 15,
   "metadata": {},
   "outputs": [
    {
     "name": "stdout",
     "output_type": "stream",
     "text": [
      "E: All tests passed 🎉🎉🎉\n"
     ]
    }
   ],
   "source": [
    "# Test E\n",
    "Tests.test(\"E\", closest_3)"
   ]
  },
  {
   "cell_type": "code",
   "execution_count": null,
   "metadata": {},
   "outputs": [],
   "source": []
  }
 ],
 "metadata": {
  "colab": {
   "authorship_tag": "ABX9TyPxe2qYxIG7EblrvD1C4Pmv",
   "provenance": []
  },
  "kernelspec": {
   "display_name": "Python 3",
   "language": "python",
   "name": "python3"
  },
  "language_info": {
   "codemirror_mode": {
    "name": "ipython",
    "version": 3
   },
   "file_extension": ".py",
   "mimetype": "text/x-python",
   "name": "python",
   "nbconvert_exporter": "python",
   "pygments_lexer": "ipython3",
   "version": "3.10.16"
  }
 },
 "nbformat": 4,
 "nbformat_minor": 0
}
